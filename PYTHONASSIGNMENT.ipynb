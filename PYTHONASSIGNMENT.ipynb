{
  "nbformat": 4,
  "nbformat_minor": 0,
  "metadata": {
    "colab": {
      "provenance": [],
      "authorship_tag": "ABX9TyMhDSluPh5NCasOO8bhAGDM",
      "include_colab_link": true
    },
    "kernelspec": {
      "name": "python3",
      "display_name": "Python 3"
    },
    "language_info": {
      "name": "python"
    }
  },
  "cells": [
    {
      "cell_type": "markdown",
      "metadata": {
        "id": "view-in-github",
        "colab_type": "text"
      },
      "source": [
        "<a href=\"https://colab.research.google.com/github/mayankm2105/PYTHON-ASSIGNMENT-/blob/main/PYTHONASSIGNMENT.ipynb\" target=\"_parent\"><img src=\"https://colab.research.google.com/assets/colab-badge.svg\" alt=\"Open In Colab\"/></a>"
      ]
    },
    {
      "cell_type": "code",
      "source": [
        "#question 1\n",
        "\"\"\"L = [11, 12, 13, 14]\n",
        "L.append(50)\n",
        "L.append(60)\n",
        "print (\"after adding 50  and 50 to L--->\", L)\"\"\"\n",
        "#############################################################\n",
        "\"\"\"L = [11, 12, 13, 14]\n",
        "del L[0]\n",
        "del L[1]\n",
        "print (\"L after deleting 11 and 13--->\", L)\"\"\"\n",
        "##############################################################\n",
        "\"\"\"L = [11, 12, 13, 14]\n",
        "L.sort()\n",
        "print (\"l sorted in ascending order is--->\", L)\n",
        "\n",
        "L.sort(reverse=True)\n",
        "print (\"l sorted in descending order is--->\", L)\"\"\"\n",
        "################################################################\n",
        "\"\"\"L = [11, 12, 13, 14]\n",
        "print (\"13 is present in L-->\", 13 in L)\n",
        "if 13 in L:\n",
        "  print (\"present\")\n",
        "else:\n",
        "  print(\"absent\")\"\"\"\n",
        "##################################################################\n",
        "\"\"\"L = [11, 12, 13, 14]\n",
        "print (\"total no. of elements in L:\", len(L))\n",
        "\n",
        "s = sum(L)\n",
        "print (\"sum of elements of L:\", s)\"\"\"\n",
        "\n",
        "##################################################################\n",
        "\"\"\"L = [11, 12, 13, 14]\n",
        "s = 0\n",
        "for i in range(0, len(L)):\n",
        "  if L[i]%2==0:\n",
        "    s = s + L[i]\n",
        "print (\"sum of even elements of L:\", s)\"\"\"\n",
        "###################################################################\n",
        "\"\"\"L = [11, 12, 13, 14]\n",
        "s = 0\n",
        "for i in range(0, len(L)):\n",
        "  if L[i]%2!=0:\n",
        "    s = s + L[i]\n",
        "print (\"sum of odd elements of L:\", s)\"\"\"\n",
        "####################################################################\n",
        "\"\"\"def Isprime(n):\n",
        "  for i in range(2, n//2 + 1):\n",
        "    if n%i==0:\n",
        "      return False\n",
        "  return True\n",
        "\n",
        "L = [11, 12, 13, 14]\n",
        "sum_of_prime = 0\n",
        "for i in L:\n",
        "  if Isprime(i):\n",
        "    sum_of_prime += i\n",
        "\n",
        "print (\"sum of all prime numbers in L--->\", sum_of_prime)\"\"\"\n",
        "######################################################################\n",
        "\"\"\"L = [11, 12, 13, 14]\n",
        "for i in range(len(L)-1, -1, -1):\n",
        "  del L[i]\n",
        "print (L)\"\"\"\n",
        "#######################################################################\n",
        "L = [11, 12, 13, 14]\n",
        "del L\n",
        "print (L)# will show error as L is deleted\"\"\"\n",
        "#####################################################################\n"
      ],
      "metadata": {
        "colab": {
          "base_uri": "https://localhost:8080/",
          "height": 201
        },
        "id": "pDssnsEnWsp5",
        "outputId": "6b8b83cb-1a5b-4fdf-aa5d-a6482c97c20d"
      },
      "execution_count": null,
      "outputs": [
        {
          "output_type": "error",
          "ename": "NameError",
          "evalue": "name 'L' is not defined",
          "traceback": [
            "\u001b[0;31m---------------------------------------------------------------------------\u001b[0m",
            "\u001b[0;31mNameError\u001b[0m                                 Traceback (most recent call last)",
            "\u001b[0;32m<ipython-input-30-3c85adb70033>\u001b[0m in \u001b[0;36m<cell line: 68>\u001b[0;34m()\u001b[0m\n\u001b[1;32m     66\u001b[0m \u001b[0mL\u001b[0m \u001b[0;34m=\u001b[0m \u001b[0;34m[\u001b[0m\u001b[0;36m11\u001b[0m\u001b[0;34m,\u001b[0m \u001b[0;36m12\u001b[0m\u001b[0;34m,\u001b[0m \u001b[0;36m13\u001b[0m\u001b[0;34m,\u001b[0m \u001b[0;36m14\u001b[0m\u001b[0;34m]\u001b[0m\u001b[0;34m\u001b[0m\u001b[0;34m\u001b[0m\u001b[0m\n\u001b[1;32m     67\u001b[0m \u001b[0;32mdel\u001b[0m \u001b[0mL\u001b[0m\u001b[0;34m\u001b[0m\u001b[0;34m\u001b[0m\u001b[0m\n\u001b[0;32m---> 68\u001b[0;31m \u001b[0mprint\u001b[0m \u001b[0;34m(\u001b[0m\u001b[0mL\u001b[0m\u001b[0;34m)\u001b[0m\u001b[0;31m# will show error as L is deleted\"\"\"\u001b[0m\u001b[0;34m\u001b[0m\u001b[0;34m\u001b[0m\u001b[0m\n\u001b[0m\u001b[1;32m     69\u001b[0m \u001b[0;31m#####################################################################\u001b[0m\u001b[0;34m\u001b[0m\u001b[0;34m\u001b[0m\u001b[0m\n",
            "\u001b[0;31mNameError\u001b[0m: name 'L' is not defined"
          ]
        }
      ]
    },
    {
      "cell_type": "code",
      "source": [
        "#QUESTION 2\n",
        "\"\"\"D = {1:5.6, 2:7.8, 3:6.6, 4:8.7, 5:7.7}\n",
        "D[8] = 8.8\n",
        "print (\"D after adding-->\", D\"\"\"\n",
        "############################################\n",
        "\"\"\"D = {1:5.6, 2:7.8, 3:6.6, 4:8.7, 5:7.7}\n",
        "del D[2]\n",
        "print (\"D after deleting--->\", D\"\"\"\n",
        "#############################################\n",
        "\"\"\"D = {1:5.6, 2:7.8, 3:6.6, 4:8.7, 5:7.7}\n",
        "if (6 in D.keys()):\n",
        "  print (\"PRESENT\")\n",
        "else:\n",
        "  print(\"ABSENT\") \"\"\"\n",
        "######################################\n",
        "\"\"\"D = {1:5.6, 2:7.8, 3:6.6, 4:8.7, 5:7.7}\n",
        "print (len(D))\"\"\"\n",
        "#############################################\n",
        "\"\"\"D = {1:5.6, 2:7.8, 3:6.6, 4:8.7, 5:7.7}\n",
        "sum = 0\n",
        "for i in D.values():\n",
        "  sum = sum + i\n",
        "print (sum)\"\"\"\n",
        "##############################################\n",
        "\"\"\"D = {1:5.6, 2:7.8, 3:6.6, 4:8.7, 5:7.7}\n",
        "D[3] = 7.1\n",
        "print(\"D after updating\", D)\"\"\"\n",
        "###############################################\n",
        "\"\"\"D = {1:5.6, 2:7.8, 3:6.6, 4:8.7, 5:7.7}\n",
        "for i in range(len(D), 0, -1):\n",
        "  del D[i]\n",
        "print (D)\"\"\"\"\n",
        "###############################################"
      ],
      "metadata": {
        "colab": {
          "base_uri": "https://localhost:8080/"
        },
        "id": "_Hc72I-xA06-",
        "outputId": "b62272e0-85ed-4866-a9ca-37a2c16f95af"
      },
      "execution_count": null,
      "outputs": [
        {
          "output_type": "stream",
          "name": "stdout",
          "text": [
            "{}\n"
          ]
        }
      ]
    },
    {
      "cell_type": "code",
      "source": [
        "#QUESTION 3\n",
        "\"\"\"S1 = {10, 20, 30, 40, 50, 60}\n",
        "S2 = {40, 50, 60, 70, 80, 90}\n",
        "S1.add(55)\n",
        "S1.add(66)\n",
        "print(\"S1 after adding 55 and 66--->\", S1)\"\"\"\n",
        "##################################################\n",
        "\"\"\"S1 = {10, 20, 30, 40, 50, 60}\n",
        "S2 = {40, 50, 60, 70, 80, 90}\n",
        "S1.remove(10)\n",
        "S1.remove(30)\n",
        "print (\"S1 after deletion--->\", S1)\"\"\"\n",
        "####################################################\n",
        "\"\"\"S1 = {10, 20, 30, 40, 50, 60}\n",
        "S2 = {40, 50, 60, 70, 80, 90}\n",
        "if 40 in S1:\n",
        "  print(\"40 is present in S1\")\"\"\"\n",
        "####################################################\n",
        "\"\"\"S1 = {10, 20, 30, 40, 50, 60}\n",
        "S2 = {40, 50, 60, 70, 80, 90}\n",
        "S3 = S1.union(S2)\n",
        "print(S3)\"\"\"\n",
        "#####################################################\n",
        "S1 = {10, 20, 30, 40, 50, 60}\n",
        "S2 = {40, 50, 60, 70, 80, 90}\n",
        "S3 = S1.intersection(S2)\n",
        "S4 = S1 - S2\n",
        "print(S3)\n",
        "print(S4)\n",
        "#############################################################"
      ],
      "metadata": {
        "id": "9FWtdruPZ5Y4",
        "colab": {
          "base_uri": "https://localhost:8080/"
        },
        "outputId": "f761db50-cf80-44c8-d270-2b785caba2ca"
      },
      "execution_count": null,
      "outputs": [
        {
          "output_type": "stream",
          "name": "stdout",
          "text": [
            "{40, 50, 60}\n",
            "{10, 20, 30}\n"
          ]
        }
      ]
    },
    {
      "cell_type": "code",
      "source": [
        "#QUESITON 4\n",
        "\n",
        "\n",
        "##############################################################3\n",
        "\"\"\"def Isprime(n):\n",
        "  for i in range(2, n//2+1):\n",
        "    if n%i==0:\n",
        "      return False\n",
        "  return True\n",
        "for i in range(600,800):\n",
        "  if Isprime(i):\n",
        "    print(i)\"\"\"\n",
        "#############################################################\n",
        "\"\"\"def divisible(n):\n",
        "  if n%7==0 and n%9==0:\n",
        "    return True\n",
        "  return False\n",
        "for i in range(100,1000):\n",
        "  if divisible(i):\n",
        "    print(i)\"\"\"\n",
        "###############################################################"
      ],
      "metadata": {
        "colab": {
          "base_uri": "https://localhost:8080/"
        },
        "collapsed": true,
        "id": "2WaaRPI_HO0w",
        "outputId": "f60c6e08-b6f8-4bb7-d635-b1f0823324c0"
      },
      "execution_count": null,
      "outputs": [
        {
          "output_type": "stream",
          "name": "stdout",
          "text": [
            "126\n",
            "189\n",
            "252\n",
            "315\n",
            "378\n",
            "441\n",
            "504\n",
            "567\n",
            "630\n",
            "693\n",
            "756\n",
            "819\n",
            "882\n",
            "945\n"
          ]
        }
      ]
    },
    {
      "cell_type": "code",
      "source": [
        "#QUESTION 5\n",
        "import random as r\n",
        "A = [r.randint(10,30) for i in range(10)]\n",
        "B = [r.randint(10,30) for i in range(10)]\n",
        "print (\"LIST A-->\", A)\n",
        "print (\"LIST B-->\", B)\n",
        "print (\"common elements of A and B-->\",set(A).intersection(set(B)))\n",
        "print (\"unique elements of A-->\", set(A)-set(B),\"\\nunique elements of B-->\", set(B)- set(A))\n",
        "print (\"max in A-->\", max(A), \"\\nmax in B-->\", max(B))\n",
        "print (\"min in A-->\", min(A), \"\\nmin in B-->\", min(B))\n",
        "print (\"sum of A and B-->\", sum(A)+sum(B))\n",
        "\n"
      ],
      "metadata": {
        "id": "0TX-TyGbLHb3",
        "colab": {
          "base_uri": "https://localhost:8080/"
        },
        "collapsed": true,
        "outputId": "5615c16b-1f9e-4fe1-9798-598ecfcf2d57"
      },
      "execution_count": null,
      "outputs": [
        {
          "output_type": "stream",
          "name": "stdout",
          "text": [
            "LIST A--> [22, 18, 26, 29, 12, 13, 15, 22, 23, 15]\n",
            "LIST B--> [14, 26, 29, 30, 18, 11, 14, 12, 30, 17]\n",
            "common elements of A and B--> {18, 26, 12, 29}\n",
            "unique elements of A--> {23, 13, 22, 15} \n",
            "unique elements of B--> {17, 11, 14, 30}\n",
            "max in A--> 29 \n",
            "max in B--> 30\n",
            "min in A--> 12 \n",
            "min in B--> 11\n",
            "sum of A and B--> 396\n"
          ]
        }
      ]
    },
    {
      "cell_type": "code",
      "source": [
        "#QUESTION 6\n",
        "def isprime(n):\n",
        "  for i in range(2,n//2+1):\n",
        "    if n%i==0:\n",
        "      return False\n",
        "  return True\n",
        "\n",
        "import random as r\n",
        "A = [r.randint(100,900) for i in range(100)]\n",
        "for i in A:\n",
        "  print (i)\n",
        "\n",
        "count_odd = 0\n",
        "count_even = 0\n",
        "count_prime = 0\n",
        "for i in A:\n",
        "  if i%2==0:\n",
        "    count_odd += 1\n",
        "  else :\n",
        "    count_even += 1\n",
        "\n",
        "for i in A:\n",
        "  if isprime(i):\n",
        "    count_prime += 1\n",
        "\n",
        "print (\"odd numbers-->\", count_odd)\n",
        "print (\"even numbers-->\", count_even)\n",
        "print (\"prime numbers-->\", count_prime)\n"
      ],
      "metadata": {
        "colab": {
          "base_uri": "https://localhost:8080/"
        },
        "collapsed": true,
        "id": "BAgjkjLj5TX0",
        "outputId": "934bb859-48e8-4866-cb6d-25aba1773790"
      },
      "execution_count": null,
      "outputs": [
        {
          "output_type": "stream",
          "name": "stdout",
          "text": [
            "340\n",
            "617\n",
            "216\n",
            "708\n",
            "841\n",
            "841\n",
            "895\n",
            "457\n",
            "283\n",
            "675\n",
            "260\n",
            "573\n",
            "680\n",
            "175\n",
            "570\n",
            "745\n",
            "709\n",
            "365\n",
            "186\n",
            "420\n",
            "682\n",
            "893\n",
            "119\n",
            "694\n",
            "892\n",
            "659\n",
            "191\n",
            "534\n",
            "118\n",
            "603\n",
            "559\n",
            "478\n",
            "314\n",
            "661\n",
            "221\n",
            "490\n",
            "214\n",
            "230\n",
            "362\n",
            "702\n",
            "660\n",
            "759\n",
            "515\n",
            "465\n",
            "747\n",
            "399\n",
            "825\n",
            "202\n",
            "411\n",
            "478\n",
            "225\n",
            "475\n",
            "787\n",
            "474\n",
            "439\n",
            "591\n",
            "750\n",
            "245\n",
            "787\n",
            "715\n",
            "638\n",
            "782\n",
            "323\n",
            "193\n",
            "610\n",
            "419\n",
            "472\n",
            "534\n",
            "741\n",
            "766\n",
            "369\n",
            "213\n",
            "281\n",
            "250\n",
            "402\n",
            "522\n",
            "863\n",
            "664\n",
            "245\n",
            "465\n",
            "796\n",
            "894\n",
            "873\n",
            "860\n",
            "790\n",
            "201\n",
            "463\n",
            "213\n",
            "669\n",
            "673\n",
            "542\n",
            "289\n",
            "497\n",
            "323\n",
            "478\n",
            "105\n",
            "355\n",
            "293\n",
            "803\n",
            "657\n",
            "odd numbers--> 41\n",
            "even numbers--> 59\n",
            "prime numbers--> 17\n"
          ]
        }
      ]
    },
    {
      "cell_type": "code",
      "source": [
        "#QUESTION 7\n",
        "D = {1:\"One\", 2:\"Two\", 3:\"Three\", 4:\"Four\", 5:\"Five\"}\n",
        "v = list(D.values())\n",
        "k = list(D.keys())\n",
        "fp = open('question7.txt', 'w')\n",
        "for i in range(0,5):\n",
        "  fp.write(str(k[i]) + \",\" + str(v[i]) + \"\\n\")\n",
        "fp.close()\n",
        "\n"
      ],
      "metadata": {
        "id": "h5pkXGxn7tpl"
      },
      "execution_count": 36,
      "outputs": []
    },
    {
      "cell_type": "code",
      "source": [
        "#QUESTION 8\n",
        "L = [\"One\", \"Two\", \"Three\", \"Four\", \"Five\"]\n",
        "length = []\n",
        "for i in range(0,5):\n",
        "  x = len(L[i])\n",
        "  length.append(x)\n",
        "fp = open('question8', 'w')\n",
        "for i in range(0,5):\n",
        "  fp.write(str(L[i]) + \", \" + str(length[i]) + \"\\n\")\n",
        "fp.close()\n",
        "\n",
        "\n"
      ],
      "metadata": {
        "id": "wny0dWP17PZQ"
      },
      "execution_count": 47,
      "outputs": []
    },
    {
      "cell_type": "code",
      "source": [
        "#QUESTION 9\n",
        "import random as r\n",
        "import string as s\n",
        "fp = open('file.txt', 'w')\n",
        "length = r.randint(10,15)\n",
        "chars = s.ascii_letters + s.digits\n",
        "for i in range(100):\n",
        "  random = ''.join(r.choices(chars, k=length))\n",
        "  fp.write(str(random) + \"\\n\")\n",
        "fp.close()\n"
      ],
      "metadata": {
        "id": "KFAIjF2M7hic"
      },
      "execution_count": 15,
      "outputs": []
    },
    {
      "cell_type": "code",
      "source": [
        "#QUESTION 10\n",
        "def isprime(N):\n",
        "  for i in range(2,N//2+1):\n",
        "    if N%i==0:\n",
        "      return False\n",
        "  return True\n",
        "\n",
        "fp = open('prime.txt','w')\n",
        "for i in range(600,800):\n",
        "  if isprime(i):\n",
        "    fp.write(str(i) + \"\\n\")\n",
        "fp.close()"
      ],
      "metadata": {
        "id": "Mt58T_rh_yuI"
      },
      "execution_count": 18,
      "outputs": []
    },
    {
      "cell_type": "code",
      "source": [
        "#QUESTION 11\n",
        "import time as t\n",
        "t1 = t.time()\n",
        "sum = 0\n",
        "for i in range(5):\n",
        "  sum = sum + i\n",
        "print (sum)\n",
        "t2 = t.time()\n",
        "print (\"time taken-->\", t2-t1)\n",
        ""
      ],
      "metadata": {
        "colab": {
          "base_uri": "https://localhost:8080/"
        },
        "id": "C8tCQxMaAhMg",
        "outputId": "e611f1f9-7886-4a88-c700-e8f3bcb40e9d"
      },
      "execution_count": 21,
      "outputs": [
        {
          "output_type": "stream",
          "name": "stdout",
          "text": [
            "10\n",
            "time taken--> 0.002451658248901367\n"
          ]
        }
      ]
    },
    {
      "cell_type": "code",
      "source": [
        "#QUESTION 12\n",
        "import random as r\n",
        "import time as t\n",
        "t1 = t.time()\n",
        "L1 = r.sample(range(1,10000), 5000)\n",
        "L1.sort()\n",
        "t2 = t.time()\n",
        "print (\"time taken-->\", t2-t1,\"\\n\")\n",
        "\n",
        "t1 = t.time()\n",
        "L1 = r.sample(range(1,100000), 10000)\n",
        "L1.sort()\n",
        "t2 = t.time()\n",
        "print (\"time taken-->\", t2-t1,\"\\n\")\n",
        "\n",
        "t1 = t.time()\n",
        "L1 = r.sample(range(1,100000), 15000)\n",
        "L1.sort()\n",
        "t2 = t.time()\n",
        "print (\"time taken-->\", t2-t1,\"\\n\")\n",
        "\n",
        "t1 = t.time()\n",
        "L1 = r.sample(range(1,100000), 20000)\n",
        "L1.sort()\n",
        "t2 = t.time()\n",
        "print (\"time taken-->\", t2-t1,\"\\n\")\n",
        "\n",
        "t1 = t.time()\n",
        "L1 = r.sample(range(1,100000), 25000)\n",
        "L1.sort()\n",
        "t2 = t.time()\n",
        "print (\"time taken-->\", t2-t1,\"\\n\")"
      ],
      "metadata": {
        "colab": {
          "base_uri": "https://localhost:8080/"
        },
        "id": "9cqTl4EnBLE4",
        "outputId": "3995a42c-a503-4d79-ffa9-81ec2ac0b210"
      },
      "execution_count": 29,
      "outputs": [
        {
          "output_type": "stream",
          "name": "stdout",
          "text": [
            "time taken--> 0.010702133178710938 \n",
            "\n",
            "time taken--> 0.019790172576904297 \n",
            "\n",
            "time taken--> 0.014752388000488281 \n",
            "\n",
            "time taken--> 0.02831411361694336 \n",
            "\n",
            "time taken--> 0.03462624549865723 \n",
            "\n"
          ]
        }
      ]
    },
    {
      "cell_type": "code",
      "source": [],
      "metadata": {
        "id": "dX_LpD6GDkzz"
      },
      "execution_count": null,
      "outputs": []
    }
  ]
}